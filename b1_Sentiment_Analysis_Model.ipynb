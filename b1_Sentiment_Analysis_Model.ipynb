{
 "cells": [
  {
   "cell_type": "markdown",
   "metadata": {
    "id": "NE8TiBy1PpHP"
   },
   "source": [
    "###Importing libraries"
   ]
  },
  {
   "cell_type": "code",
   "execution_count": 1,
   "metadata": {
    "executionInfo": {
     "elapsed": 8,
     "status": "ok",
     "timestamp": 1641649180893,
     "user": {
      "displayName": "SKILLCATE",
      "photoUrl": "https://lh3.googleusercontent.com/a-/AOh14GhT5e7MnDmh2dcfNhKDOV8oRoeRJVinedzmD2Su=s64",
      "userId": "11062674699417926870"
     },
     "user_tz": -330
    },
    "id": "UA-jPWIqK59Q"
   },
   "outputs": [],
   "source": [
    "import numpy as np\n",
    "import pandas as pd\n",
    "import seaborn as sns\n",
    "import warnings\n",
    "warnings.filterwarnings('ignore')"
   ]
  },
  {
   "cell_type": "markdown",
   "metadata": {
    "id": "jAkmz2o3Ps_f"
   },
   "source": [
    "### Importing dataset\n",
    "\n",
    "\n"
   ]
  },
  {
   "cell_type": "code",
   "execution_count": 2,
   "metadata": {
    "colab": {
     "base_uri": "https://localhost:8080/"
    },
    "executionInfo": {
     "elapsed": 20699,
     "status": "ok",
     "timestamp": 1641649201586,
     "user": {
      "displayName": "SKILLCATE",
      "photoUrl": "https://lh3.googleusercontent.com/a-/AOh14GhT5e7MnDmh2dcfNhKDOV8oRoeRJVinedzmD2Su=s64",
      "userId": "11062674699417926870"
     },
     "user_tz": -330
    },
    "id": "oORlzsp1wiG6",
    "outputId": "deb4ca24-427d-48be-ea84-aafe67f6b70d"
   },
   "outputs": [],
   "source": [
    "#from google.colab import drive\n",
    "#drive.mount('/content/drive')"
   ]
  },
  {
   "cell_type": "code",
   "execution_count": 3,
   "metadata": {
    "executionInfo": {
     "elapsed": 775,
     "status": "ok",
     "timestamp": 1641649202355,
     "user": {
      "displayName": "SKILLCATE",
      "photoUrl": "https://lh3.googleusercontent.com/a-/AOh14GhT5e7MnDmh2dcfNhKDOV8oRoeRJVinedzmD2Su=s64",
      "userId": "11062674699417926870"
     },
     "user_tz": -330
    },
    "id": "rEyDbEwbOWgp"
   },
   "outputs": [],
   "source": [
    "#dataset = pd.read_csv('./drive/MyDrive/Project2_Sentiment_Analysis/a1_RestaurantReviews_HistoricDump.tsv', delimiter = '\\t', quoting = 3)"
   ]
  },
  {
   "cell_type": "code",
   "execution_count": 4,
   "metadata": {},
   "outputs": [],
   "source": [
    "dataset = pd.read_csv('a1_RestaurantReviews_HistoricDump.tsv', sep='\\t')"
   ]
  },
  {
   "cell_type": "code",
   "execution_count": 5,
   "metadata": {
    "colab": {
     "base_uri": "https://localhost:8080/"
    },
    "executionInfo": {
     "elapsed": 15,
     "status": "ok",
     "timestamp": 1641649202356,
     "user": {
      "displayName": "SKILLCATE",
      "photoUrl": "https://lh3.googleusercontent.com/a-/AOh14GhT5e7MnDmh2dcfNhKDOV8oRoeRJVinedzmD2Su=s64",
      "userId": "11062674699417926870"
     },
     "user_tz": -330
    },
    "id": "5I60cmjOPxSY",
    "outputId": "aa4ec499-5e8c-4e04-9e9a-615a24841967"
   },
   "outputs": [
    {
     "data": {
      "text/plain": [
       "(900, 2)"
      ]
     },
     "execution_count": 5,
     "metadata": {},
     "output_type": "execute_result"
    }
   ],
   "source": [
    "dataset.shape"
   ]
  },
  {
   "cell_type": "code",
   "execution_count": 6,
   "metadata": {
    "colab": {
     "base_uri": "https://localhost:8080/",
     "height": 206
    },
    "executionInfo": {
     "elapsed": 11,
     "status": "ok",
     "timestamp": 1641649202356,
     "user": {
      "displayName": "SKILLCATE",
      "photoUrl": "https://lh3.googleusercontent.com/a-/AOh14GhT5e7MnDmh2dcfNhKDOV8oRoeRJVinedzmD2Su=s64",
      "userId": "11062674699417926870"
     },
     "user_tz": -330
    },
    "id": "OogtEOYrO-CW",
    "outputId": "bed5cc22-f0a4-4ddd-a870-c6520743c627"
   },
   "outputs": [
    {
     "data": {
      "text/html": [
       "<div>\n",
       "<style scoped>\n",
       "    .dataframe tbody tr th:only-of-type {\n",
       "        vertical-align: middle;\n",
       "    }\n",
       "\n",
       "    .dataframe tbody tr th {\n",
       "        vertical-align: top;\n",
       "    }\n",
       "\n",
       "    .dataframe thead th {\n",
       "        text-align: right;\n",
       "    }\n",
       "</style>\n",
       "<table border=\"1\" class=\"dataframe\">\n",
       "  <thead>\n",
       "    <tr style=\"text-align: right;\">\n",
       "      <th></th>\n",
       "      <th>Review</th>\n",
       "      <th>Liked</th>\n",
       "    </tr>\n",
       "  </thead>\n",
       "  <tbody>\n",
       "    <tr>\n",
       "      <th>0</th>\n",
       "      <td>Wow... Loved this place.</td>\n",
       "      <td>1</td>\n",
       "    </tr>\n",
       "    <tr>\n",
       "      <th>1</th>\n",
       "      <td>Crust is not good.</td>\n",
       "      <td>0</td>\n",
       "    </tr>\n",
       "    <tr>\n",
       "      <th>2</th>\n",
       "      <td>Not tasty and the texture was just nasty.</td>\n",
       "      <td>0</td>\n",
       "    </tr>\n",
       "    <tr>\n",
       "      <th>3</th>\n",
       "      <td>Stopped by during the late May bank holiday of...</td>\n",
       "      <td>1</td>\n",
       "    </tr>\n",
       "    <tr>\n",
       "      <th>4</th>\n",
       "      <td>The selection on the menu was great and so wer...</td>\n",
       "      <td>1</td>\n",
       "    </tr>\n",
       "  </tbody>\n",
       "</table>\n",
       "</div>"
      ],
      "text/plain": [
       "                                              Review  Liked\n",
       "0                           Wow... Loved this place.      1\n",
       "1                                 Crust is not good.      0\n",
       "2          Not tasty and the texture was just nasty.      0\n",
       "3  Stopped by during the late May bank holiday of...      1\n",
       "4  The selection on the menu was great and so wer...      1"
      ]
     },
     "execution_count": 6,
     "metadata": {},
     "output_type": "execute_result"
    }
   ],
   "source": [
    "dataset.head()"
   ]
  },
  {
   "cell_type": "code",
   "execution_count": 7,
   "metadata": {},
   "outputs": [
    {
     "data": {
      "text/plain": [
       "1    496\n",
       "0    404\n",
       "Name: Liked, dtype: int64"
      ]
     },
     "execution_count": 7,
     "metadata": {},
     "output_type": "execute_result"
    }
   ],
   "source": [
    "dataset['Liked'].value_counts()"
   ]
  },
  {
   "cell_type": "code",
   "execution_count": 8,
   "metadata": {},
   "outputs": [
    {
     "data": {
      "text/plain": [
       "<AxesSubplot:xlabel='Liked', ylabel='count'>"
      ]
     },
     "execution_count": 8,
     "metadata": {},
     "output_type": "execute_result"
    },
    {
     "data": {
      "image/png": "[encoded data removed]",
      "text/plain": [
       "<Figure size 432x288 with 1 Axes>"
      ]
     },
     "metadata": {
      "needs_background": "light"
     },
     "output_type": "display_data"
    }
   ],
   "source": [
    "sns.countplot(x ='Liked', data = dataset)"
   ]
  },
  {
   "cell_type": "markdown",
   "metadata": {
    "id": "j-RW_6DZP-Np"
   },
   "source": [
    "### Data cleaning"
   ]
  },
  {
   "cell_type": "code",
   "execution_count": 9,
   "metadata": {
    "colab": {
     "base_uri": "https://localhost:8080/"
    },
    "executionInfo": {
     "elapsed": 1821,
     "status": "ok",
     "timestamp": 1641649204170,
     "user": {
      "displayName": "SKILLCATE",
      "photoUrl": "https://lh3.googleusercontent.com/a-/AOh14GhT5e7MnDmh2dcfNhKDOV8oRoeRJVinedzmD2Su=s64",
      "userId": "11062674699417926870"
     },
     "user_tz": -330
    },
    "id": "A7yu8yC0OlYB",
    "outputId": "5a40d0a9-7534-4b6d-bde6-1eeb634e873b"
   },
   "outputs": [
    {
     "name": "stderr",
     "output_type": "stream",
     "text": [
      "[nltk_data] Downloading package stopwords to\n",
      "[nltk_data]     C:\\Users\\12AU\\AppData\\Roaming\\nltk_data...\n",
      "[nltk_data]   Package stopwords is already up-to-date!\n"
     ]
    }
   ],
   "source": [
    "import re\n",
    "import nltk\n",
    "\n",
    "nltk.download('stopwords')\n",
    "\n",
    "from nltk.corpus import stopwords\n",
    "from nltk.stem.porter import PorterStemmer\n",
    "ps = PorterStemmer()\n",
    "\n",
    "all_stopwords = stopwords.words('english')\n",
    "all_stopwords.remove('not')"
   ]
  },
  {
   "cell_type": "code",
   "execution_count": 10,
   "metadata": {
    "executionInfo": {
     "elapsed": 31,
     "status": "ok",
     "timestamp": 1641649204171,
     "user": {
      "displayName": "SKILLCATE",
      "photoUrl": "https://lh3.googleusercontent.com/a-/AOh14GhT5e7MnDmh2dcfNhKDOV8oRoeRJVinedzmD2Su=s64",
      "userId": "11062674699417926870"
     },
     "user_tz": -330
    },
    "id": "hXURUSLTOocO"
   },
   "outputs": [],
   "source": [
    "corpus=[]\n",
    "\n",
    "for i in range(0, 900):\n",
    "  review = re.sub('[^a-zA-Z]', ' ', dataset['Review'][i])\n",
    "  review = review.lower()\n",
    "  review = review.split()\n",
    "  review = [ps.stem(word) for word in review if not word in set(all_stopwords)]\n",
    "  review = ' '.join(review)\n",
    "  corpus.append(review)"
   ]
  },
  {
   "cell_type": "code",
   "execution_count": 11,
   "metadata": {
    "colab": {
     "base_uri": "https://localhost:8080/"
    },
    "executionInfo": {
     "elapsed": 30,
     "status": "ok",
     "timestamp": 1641649204171,
     "user": {
      "displayName": "SKILLCATE",
      "photoUrl": "https://lh3.googleusercontent.com/a-/AOh14GhT5e7MnDmh2dcfNhKDOV8oRoeRJVinedzmD2Su=s64",
      "userId": "11062674699417926870"
     },
     "user_tz": -330
    },
    "id": "cmX9tJn98h7M",
    "outputId": "ff4197a9-679b-4b94-f719-61f89e3ee91e"
   },
   "outputs": [
    {
     "data": {
      "text/plain": [
       "['wow love place',\n",
       " 'crust not good',\n",
       " 'not tasti textur nasti',\n",
       " 'stop late may bank holiday rick steve recommend love',\n",
       " 'select menu great price',\n",
       " 'get angri want damn pho',\n",
       " 'honeslti tast fresh',\n",
       " 'potato like rubber could tell made ahead time kept warmer',\n",
       " 'fri great',\n",
       " 'great touch']"
      ]
     },
     "execution_count": 11,
     "metadata": {},
     "output_type": "execute_result"
    }
   ],
   "source": [
    "corpus[:10]"
   ]
  },
  {
   "cell_type": "markdown",
   "metadata": {
    "id": "1TctQ_uZQM9A"
   },
   "source": [
    "### Data transformation"
   ]
  },
  {
   "cell_type": "code",
   "execution_count": 12,
   "metadata": {
    "executionInfo": {
     "elapsed": 24,
     "status": "ok",
     "timestamp": 1641649204171,
     "user": {
      "displayName": "SKILLCATE",
      "photoUrl": "https://lh3.googleusercontent.com/a-/AOh14GhT5e7MnDmh2dcfNhKDOV8oRoeRJVinedzmD2Su=s64",
      "userId": "11062674699417926870"
     },
     "user_tz": -330
    },
    "id": "byh_MglBOsG0"
   },
   "outputs": [],
   "source": [
    "from sklearn.feature_extraction.text import CountVectorizer\n",
    "cv = CountVectorizer(max_features = 1420)"
   ]
  },
  {
   "cell_type": "code",
   "execution_count": 13,
   "metadata": {
    "executionInfo": {
     "elapsed": 24,
     "status": "ok",
     "timestamp": 1641649204171,
     "user": {
      "displayName": "SKILLCATE",
      "photoUrl": "https://lh3.googleusercontent.com/a-/AOh14GhT5e7MnDmh2dcfNhKDOV8oRoeRJVinedzmD2Su=s64",
      "userId": "11062674699417926870"
     },
     "user_tz": -330
    },
    "id": "KCT0kv6hCN9Y"
   },
   "outputs": [],
   "source": [
    "X = cv.fit_transform(corpus).toarray()\n",
    "y = dataset.iloc[:, -1].values"
   ]
  },
  {
   "cell_type": "code",
   "execution_count": 14,
   "metadata": {
    "executionInfo": {
     "elapsed": 24,
     "status": "ok",
     "timestamp": 1641649204172,
     "user": {
      "displayName": "SKILLCATE",
      "photoUrl": "https://lh3.googleusercontent.com/a-/AOh14GhT5e7MnDmh2dcfNhKDOV8oRoeRJVinedzmD2Su=s64",
      "userId": "11062674699417926870"
     },
     "user_tz": -330
    },
    "id": "CcbH54t3MZIC"
   },
   "outputs": [],
   "source": [
    "# Saving BoW dictionary to later use in prediction\n",
    "import pickle\n",
    "#bow_path = './drive/MyDrive/Project2_Sentiment_Analysis/c1_BoW_Sentiment_Model.pkl'\n",
    "bow_path = 'c1_BoW_Sentiment_Model.pkl'\n",
    "pickle.dump(cv, open(bow_path, \"wb\"))"
   ]
  },
  {
   "cell_type": "markdown",
   "metadata": {
    "id": "ByyPjrCGQYm0"
   },
   "source": [
    "### Dividing dataset into training and test set"
   ]
  },
  {
   "cell_type": "code",
   "execution_count": 15,
   "metadata": {
    "executionInfo": {
     "elapsed": 23,
     "status": "ok",
     "timestamp": 1641649204172,
     "user": {
      "displayName": "SKILLCATE",
      "photoUrl": "https://lh3.googleusercontent.com/a-/AOh14GhT5e7MnDmh2dcfNhKDOV8oRoeRJVinedzmD2Su=s64",
      "userId": "11062674699417926870"
     },
     "user_tz": -330
    },
    "id": "g04rl7BZOuGc"
   },
   "outputs": [],
   "source": [
    "from sklearn.model_selection import train_test_split\n",
    "X_train, X_test, y_train, y_test = train_test_split(X, y, test_size = 0.25, random_state = 0)"
   ]
  },
  {
   "cell_type": "markdown",
   "metadata": {},
   "source": [
    "## Model fitting (Logistic Regression)"
   ]
  },
  {
   "cell_type": "code",
   "execution_count": 16,
   "metadata": {},
   "outputs": [],
   "source": [
    "from sklearn.linear_model import LogisticRegression"
   ]
  },
  {
   "cell_type": "code",
   "execution_count": 17,
   "metadata": {},
   "outputs": [
    {
     "data": {
      "text/plain": [
       "LogisticRegression()"
      ]
     },
     "execution_count": 17,
     "metadata": {},
     "output_type": "execute_result"
    }
   ],
   "source": [
    "model_lr =LogisticRegression()\n",
    "model_lr.fit(X_train,y_train)"
   ]
  },
  {
   "cell_type": "code",
   "execution_count": 18,
   "metadata": {},
   "outputs": [],
   "source": [
    "y_pred_lr = model_lr.predict(X_test)"
   ]
  },
  {
   "cell_type": "code",
   "execution_count": 19,
   "metadata": {},
   "outputs": [
    {
     "name": "stdout",
     "output_type": "stream",
     "text": [
      "Accuracy Score : 0.78\n",
      "Confusion Matrix : \n",
      " [[ 68  29]\n",
      " [ 20 108]]\n"
     ]
    }
   ],
   "source": [
    "from sklearn.metrics import confusion_matrix, accuracy_score\n",
    "\n",
    "acc_lr = '{:.2f}'.format(accuracy_score(y_test, y_pred_lr))\n",
    "print('Accuracy Score : {:.2f}'.format(accuracy_score(y_test, y_pred_lr)))\n",
    "cm_lr = confusion_matrix(y_test, y_pred_lr)\n",
    "print(\"Confusion Matrix : \\n\", cm_lr)"
   ]
  },
  {
   "cell_type": "code",
   "execution_count": 20,
   "metadata": {},
   "outputs": [
    {
     "data": {
      "text/plain": [
       "['c4_Classifier_Sentiment_Model_LogR']"
      ]
     },
     "execution_count": 20,
     "metadata": {},
     "output_type": "execute_result"
    }
   ],
   "source": [
    "import joblib\n",
    "joblib.dump(model_lr, 'c4_Classifier_Sentiment_Model_LogR')"
   ]
  },
  {
   "cell_type": "markdown",
   "metadata": {
    "id": "AdQY92UPQmsq"
   },
   "source": [
    "### Model fitting (Naive Bayes)"
   ]
  },
  {
   "cell_type": "code",
   "execution_count": 21,
   "metadata": {
    "colab": {
     "base_uri": "https://localhost:8080/"
    },
    "executionInfo": {
     "elapsed": 22,
     "status": "ok",
     "timestamp": 1641649204172,
     "user": {
      "displayName": "SKILLCATE",
      "photoUrl": "https://lh3.googleusercontent.com/a-/AOh14GhT5e7MnDmh2dcfNhKDOV8oRoeRJVinedzmD2Su=s64",
      "userId": "11062674699417926870"
     },
     "user_tz": -330
    },
    "id": "JXEUR3trOwrv",
    "outputId": "9ac51086-1439-4ea8-c9a6-6cfc84531211"
   },
   "outputs": [
    {
     "data": {
      "text/plain": [
       "GaussianNB()"
      ]
     },
     "execution_count": 21,
     "metadata": {},
     "output_type": "execute_result"
    }
   ],
   "source": [
    "from sklearn.naive_bayes import GaussianNB\n",
    "classifier = GaussianNB()\n",
    "classifier.fit(X_train, y_train)"
   ]
  },
  {
   "cell_type": "markdown",
   "metadata": {
    "id": "LUpvhmMXQ0LJ"
   },
   "source": [
    "###Model performance"
   ]
  },
  {
   "cell_type": "code",
   "execution_count": 22,
   "metadata": {
    "colab": {
     "base_uri": "https://localhost:8080/"
    },
    "executionInfo": {
     "elapsed": 6,
     "status": "ok",
     "timestamp": 1641649204877,
     "user": {
      "displayName": "SKILLCATE",
      "photoUrl": "https://lh3.googleusercontent.com/a-/AOh14GhT5e7MnDmh2dcfNhKDOV8oRoeRJVinedzmD2Su=s64",
      "userId": "11062674699417926870"
     },
     "user_tz": -330
    },
    "id": "fB1-BGFuO17X",
    "outputId": "9e76c4f1-0d33-4c89-edda-36d63c9614ce"
   },
   "outputs": [],
   "source": [
    "y_pred = classifier.predict(X_test)\n"
   ]
  },
  {
   "cell_type": "code",
   "execution_count": 23,
   "metadata": {},
   "outputs": [
    {
     "name": "stdout",
     "output_type": "stream",
     "text": [
      "Accuracy Score : 0.79\n",
      "Confusion Matrix : \n",
      " [[81 16]\n",
      " [32 96]]\n"
     ]
    }
   ],
   "source": [
    "acc_nb = '{:.2f}'.format(accuracy_score(y_test, y_pred))\n",
    "print('Accuracy Score : {:.2f}'.format(accuracy_score(y_test, y_pred)))\n",
    "cm = confusion_matrix(y_test, y_pred)\n",
    "print(\"Confusion Matrix : \\n\", cm)"
   ]
  },
  {
   "cell_type": "code",
   "execution_count": 24,
   "metadata": {},
   "outputs": [
    {
     "data": {
      "text/plain": [
       "['c2_Classifier_Sentiment_Model']"
      ]
     },
     "execution_count": 24,
     "metadata": {},
     "output_type": "execute_result"
    }
   ],
   "source": [
    "# Exporting NB Classifier to later use in prediction\n",
    "import joblib\n",
    "#joblib.dump(classifier, './drive/MyDrive/Project2_Sentiment_Analysis/c2_Classifier_Sentiment_Model') \n",
    "joblib.dump(classifier, 'c2_Classifier_Sentiment_Model')"
   ]
  },
  {
   "cell_type": "markdown",
   "metadata": {},
   "source": [
    "## Model Fitting (Random Forest Classifier)"
   ]
  },
  {
   "cell_type": "code",
   "execution_count": 25,
   "metadata": {},
   "outputs": [],
   "source": [
    "from sklearn.ensemble import RandomForestClassifier"
   ]
  },
  {
   "cell_type": "code",
   "execution_count": 26,
   "metadata": {},
   "outputs": [],
   "source": [
    "model_rf= RandomForestClassifier(n_estimators= 501, criterion='entropy')"
   ]
  },
  {
   "cell_type": "code",
   "execution_count": 27,
   "metadata": {},
   "outputs": [
    {
     "data": {
      "text/plain": [
       "RandomForestClassifier(criterion='entropy', n_estimators=501)"
      ]
     },
     "execution_count": 27,
     "metadata": {},
     "output_type": "execute_result"
    }
   ],
   "source": [
    "model_rf.fit(X_train,y_train)"
   ]
  },
  {
   "cell_type": "code",
   "execution_count": 28,
   "metadata": {},
   "outputs": [
    {
     "data": {
      "text/plain": [
       "array([0, 1, 0, 1, 0, 0, 1, 1, 1, 0, 0, 0, 1, 1, 1, 1, 0, 0, 0, 0, 0, 1,\n",
       "       1, 1, 0, 1, 1, 1, 1, 1, 1, 1, 0, 1, 1, 1, 1, 1, 0, 0, 0, 0, 0, 0,\n",
       "       0, 0, 1, 1, 1, 0, 1, 0, 1, 1, 1, 0, 1, 1, 1, 0, 1, 0, 1, 0, 0, 1,\n",
       "       1, 0, 0, 1, 1, 1, 1, 1, 1, 0, 0, 1, 1, 1, 0, 0, 1, 1, 0, 0, 1, 1,\n",
       "       1, 1, 1, 0, 1, 0, 0, 1, 1, 1, 1, 0, 1, 1, 0, 1, 1, 1, 1, 1, 0, 0,\n",
       "       1, 0, 1, 1, 0, 1, 1, 0, 1, 1, 1, 1, 0, 0, 0, 0, 1, 1, 0, 1, 0, 1,\n",
       "       1, 1, 1, 0, 0, 1, 1, 1, 0, 1, 1, 1, 1, 1, 0, 1, 1, 0, 0, 1, 1, 1,\n",
       "       0, 1, 0, 0, 1, 1, 0, 1, 0, 0, 1, 0, 0, 0, 0, 0, 0, 1, 0, 1, 1, 1,\n",
       "       1, 0, 1, 0, 1, 0, 0, 0, 0, 1, 0, 0, 1, 0, 0, 0, 1, 1, 1, 1, 1, 0,\n",
       "       0, 1, 1, 1, 1, 0, 1, 1, 0, 0, 1, 0, 0, 1, 1, 1, 0, 1, 0, 1, 0, 0,\n",
       "       1, 0, 0, 1, 0], dtype=int64)"
      ]
     },
     "execution_count": 28,
     "metadata": {},
     "output_type": "execute_result"
    }
   ],
   "source": [
    "# Predicting the Test set results\n",
    "y_pred_rf = model_rf.predict(X_test)\n",
    "y_pred_rf"
   ]
  },
  {
   "cell_type": "code",
   "execution_count": 29,
   "metadata": {},
   "outputs": [
    {
     "name": "stdout",
     "output_type": "stream",
     "text": [
      "Accuracy Score :0.80\n",
      "Confusion Matrix : \n",
      " [[ 75  22]\n",
      " [ 22 106]]\n"
     ]
    }
   ],
   "source": [
    "acc_rf = '{:.2f}'.format(accuracy_score(y_pred_rf,y_test))\n",
    "print('Accuracy Score :{:.2f}'.format(accuracy_score(y_pred_rf,y_test)))\n",
    "cm_rf = confusion_matrix(y_test, y_pred_rf)\n",
    "print(\"Confusion Matrix : \\n\", cm_rf)"
   ]
  },
  {
   "cell_type": "code",
   "execution_count": 30,
   "metadata": {},
   "outputs": [
    {
     "data": {
      "text/plain": [
       "['c3_Classifier_Sentiment_Model_RandomForest']"
      ]
     },
     "execution_count": 30,
     "metadata": {},
     "output_type": "execute_result"
    }
   ],
   "source": [
    "joblib.dump(model_rf, 'c3_Classifier_Sentiment_Model_RandomForest')"
   ]
  },
  {
   "cell_type": "markdown",
   "metadata": {},
   "source": [
    "## Accuracy Comparison"
   ]
  },
  {
   "cell_type": "code",
   "execution_count": 31,
   "metadata": {},
   "outputs": [],
   "source": [
    "acc_data = [['Logistic Regression',acc_lr ], ['Gaussian NB', acc_nb], ['Randon Forest', acc_rf]]\n"
   ]
  },
  {
   "cell_type": "code",
   "execution_count": 32,
   "metadata": {},
   "outputs": [
    {
     "data": {
      "text/html": [
       "<div>\n",
       "<style scoped>\n",
       "    .dataframe tbody tr th:only-of-type {\n",
       "        vertical-align: middle;\n",
       "    }\n",
       "\n",
       "    .dataframe tbody tr th {\n",
       "        vertical-align: top;\n",
       "    }\n",
       "\n",
       "    .dataframe thead th {\n",
       "        text-align: right;\n",
       "    }\n",
       "</style>\n",
       "<table border=\"1\" class=\"dataframe\">\n",
       "  <thead>\n",
       "    <tr style=\"text-align: right;\">\n",
       "      <th></th>\n",
       "      <th>Models</th>\n",
       "      <th>Accuracy</th>\n",
       "    </tr>\n",
       "  </thead>\n",
       "  <tbody>\n",
       "    <tr>\n",
       "      <th>0</th>\n",
       "      <td>Logistic Regression</td>\n",
       "      <td>0.78</td>\n",
       "    </tr>\n",
       "    <tr>\n",
       "      <th>1</th>\n",
       "      <td>Gaussian NB</td>\n",
       "      <td>0.79</td>\n",
       "    </tr>\n",
       "    <tr>\n",
       "      <th>2</th>\n",
       "      <td>Randon Forest</td>\n",
       "      <td>0.80</td>\n",
       "    </tr>\n",
       "  </tbody>\n",
       "</table>\n",
       "</div>"
      ],
      "text/plain": [
       "                Models Accuracy\n",
       "0  Logistic Regression     0.78\n",
       "1          Gaussian NB     0.79\n",
       "2        Randon Forest     0.80"
      ]
     },
     "execution_count": 32,
     "metadata": {},
     "output_type": "execute_result"
    }
   ],
   "source": [
    "acc_df = pd.DataFrame(acc_data,columns=['Models', 'Accuracy'])\n",
    "acc_df"
   ]
  },
  {
   "cell_type": "code",
   "execution_count": 33,
   "metadata": {},
   "outputs": [],
   "source": [
    "acc_df.to_csv('Models-Accuracy Comparison.tsv', sep='\\t', encoding='UTF-8', index=False )"
   ]
  },
  {
   "cell_type": "code",
   "execution_count": null,
   "metadata": {},
   "outputs": [],
   "source": []
  }
 ],
 "metadata": {
  "colab": {
   "authorship_tag": "ABX9TyNrAaJ+T8E1HSo3f60yaDuV",
   "collapsed_sections": [],
   "name": "b1_Sentiment_Analysis_Model.ipynb",
   "provenance": []
  },
  "kernelspec": {
   "display_name": "Python 3",
   "language": "python",
   "name": "python3"
  },
  "language_info": {
   "codemirror_mode": {
    "name": "ipython",
    "version": 3
   },
   "file_extension": ".py",
   "mimetype": "text/x-python",
   "name": "python",
   "nbconvert_exporter": "python",
   "pygments_lexer": "ipython3",
   "version": "3.8.8"
  }
 },
 "nbformat": 4,
 "nbformat_minor": 4
}
